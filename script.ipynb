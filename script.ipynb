{
 "metadata": {
  "language_info": {
   "codemirror_mode": {
    "name": "ipython",
    "version": 3
   },
   "file_extension": ".py",
   "mimetype": "text/x-python",
   "name": "python",
   "nbconvert_exporter": "python",
   "pygments_lexer": "ipython3",
   "version": "3.8.3-final"
  },
  "orig_nbformat": 2,
  "kernelspec": {
   "name": "python3",
   "display_name": "Python 3"
  }
 },
 "nbformat": 4,
 "nbformat_minor": 2,
 "cells": [
  {
   "cell_type": "code",
   "execution_count": 1,
   "metadata": {},
   "outputs": [
    {
     "output_type": "stream",
     "name": "stdout",
     "text": [
      "Collecting package metadata (current_repodata.json): done\n",
      "Solving environment: done\n",
      "\n",
      "## Package Plan ##\n",
      "\n",
      "  environment location: /Users/danielzafman/opt/miniconda3\n",
      "\n",
      "  added / updated specs:\n",
      "    - pandas\n",
      "\n",
      "\n",
      "The following packages will be downloaded:\n",
      "\n",
      "    package                    |            build\n",
      "    ---------------------------|-----------------\n",
      "    certifi-2020.12.5          |   py38hecd8cb5_0         141 KB\n",
      "    conda-4.9.2                |   py38hecd8cb5_0         2.9 MB\n",
      "    ------------------------------------------------------------\n",
      "                                           Total:         3.0 MB\n",
      "\n",
      "The following packages will be UPDATED:\n",
      "\n",
      "  certifi            pkgs/main/noarch::certifi-2020.6.20-p~ --> pkgs/main/osx-64::certifi-2020.12.5-py38hecd8cb5_0\n",
      "  conda                                4.9.1-py38hecd8cb5_0 --> 4.9.2-py38hecd8cb5_0\n",
      "\n",
      "\n",
      "\n",
      "Downloading and Extracting Packages\n",
      "conda-4.9.2          | 2.9 MB    | ##################################### | 100% \n",
      "certifi-2020.12.5    | 141 KB    | ##################################### | 100% \n",
      "Preparing transaction: done\n",
      "Verifying transaction: done\n",
      "Executing transaction: done\n"
     ]
    }
   ],
   "source": [
    "!conda install pandas -y\n",
    "\n",
    "import pandas as pd"
   ]
  },
  {
   "cell_type": "code",
   "execution_count": 12,
   "metadata": {},
   "outputs": [
    {
     "output_type": "execute_result",
     "data": {
      "text/plain": [
       "   Unnamed: 0 Unnamed: 1    Unnamed: 2 Unnamed: 3 Unnamed: 4 Unnamed: 5  \\\n",
       "0        Week        Day          Date        NaN        NaN        NaN   \n",
       "1           1        Sun   September 8  1:00PM ET   boxscore          L   \n",
       "2           2        Sun  September 15  8:20PM ET   boxscore          W   \n",
       "3           3        Sun  September 22  1:00PM ET   boxscore          L   \n",
       "4           4        Sun  September 29  1:00PM ET   boxscore          L   \n",
       "5           5        Sun     October 6  1:00PM ET   boxscore          L   \n",
       "6           6        Sun    October 13  4:05PM ET   boxscore          L   \n",
       "7           7        Sun    October 20  1:00PM ET   boxscore          L   \n",
       "8           8        Sun    October 27  1:00PM ET   boxscore          L   \n",
       "9           9        NaN           NaN        NaN        NaN        NaN   \n",
       "10         10        Sun   November 10  1:00PM ET   boxscore          W   \n",
       "11         11        Sun   November 17  1:00PM ET   boxscore          W   \n",
       "12         12        Sun   November 24  1:00PM ET   boxscore          L   \n",
       "13         13        Thu   November 28  8:20PM ET   boxscore          L   \n",
       "14         14        Sun    December 8  1:00PM ET   boxscore          W   \n",
       "15         15        Sun   December 15  4:25PM ET   boxscore          W   \n",
       "16         16        Sun   December 22  1:00PM ET   boxscore          W   \n",
       "17         17        Sun   December 29  1:00PM ET   boxscore          W   \n",
       "\n",
       "   Unnamed: 6 Unnamed: 7 Unnamed: 8            Unnamed: 9  ... Offense.3  \\\n",
       "0          OT        Rec        NaN                   Opp  ...     RushY   \n",
       "1         NaN        0-1          @     Minnesota Vikings  ...        73   \n",
       "2         NaN        1-1        NaN   Philadelphia Eagles  ...        57   \n",
       "3         NaN        1-2          @    Indianapolis Colts  ...        93   \n",
       "4         NaN        1-3        NaN      Tennessee Titans  ...        58   \n",
       "5         NaN        1-4          @        Houston Texans  ...        57   \n",
       "6         NaN        1-5          @     Arizona Cardinals  ...       103   \n",
       "7         NaN        1-6        NaN      Los Angeles Rams  ...        38   \n",
       "8         NaN        1-7        NaN      Seattle Seahawks  ...        69   \n",
       "9         NaN        NaN        NaN              Bye Week  ...       NaN   \n",
       "10        NaN        2-7          @    New Orleans Saints  ...       143   \n",
       "11        NaN        3-7          @     Carolina Panthers  ...        54   \n",
       "12        NaN        3-8        NaN  Tampa Bay Buccaneers  ...        57   \n",
       "13        NaN        3-9        NaN    New Orleans Saints  ...        89   \n",
       "14        NaN        4-9        NaN     Carolina Panthers  ...       159   \n",
       "15        NaN        5-9          @   San Francisco 49ers  ...        89   \n",
       "16        NaN        6-9        NaN  Jacksonville Jaguars  ...       135   \n",
       "17         OT        7-9          @  Tampa Bay Buccaneers  ...        87   \n",
       "\n",
       "   Offense.4 Defense Defense.1 Defense.2 Defense.3 Defense.4 Expected Points  \\\n",
       "0         TO    1stD     TotYd     PassY     RushY        TO         Offense   \n",
       "1          3      18       269        97       172       NaN           -1.83   \n",
       "2          3      18       286       237        49         3            3.96   \n",
       "3          1      29       379       300        79       NaN           20.23   \n",
       "4          1      22       365       227       138       NaN            1.83   \n",
       "5          1      31       592       426       166         1            6.40   \n",
       "6        NaN      24       442       340       102       NaN           24.99   \n",
       "7          3      23       381       291        90       NaN          -10.97   \n",
       "8          3      18       322       171       151       NaN           12.89   \n",
       "9        NaN     NaN       NaN       NaN       NaN       NaN             NaN   \n",
       "10         1      18       310       258        52       NaN            5.44   \n",
       "11       NaN      17       347       270        77         4            6.14   \n",
       "12         2      20       446       313       133         2           -5.60   \n",
       "13         3      14       279       184        95       NaN           -5.43   \n",
       "14       NaN      27       345       245       100         4           19.83   \n",
       "15         1      20       313       193       120         2            7.04   \n",
       "16         2      17       288       173       115         1           18.86   \n",
       "17         1      14       329       193       136         3           -8.27   \n",
       "\n",
       "   Expected Points.1 Expected Points.2  \n",
       "0            Defense           Sp. Tms  \n",
       "1             -11.05             -4.34  \n",
       "2               5.22             -4.03  \n",
       "3             -23.26             -2.98  \n",
       "4             -10.78             -3.80  \n",
       "5             -40.69              9.43  \n",
       "6             -23.23             -0.25  \n",
       "7              -8.61             -7.98  \n",
       "8              -7.62            -15.43  \n",
       "9                NaN               NaN  \n",
       "10             10.99             -0.17  \n",
       "11             19.30             -1.12  \n",
       "12            -11.90              3.77  \n",
       "13             -1.68             -4.87  \n",
       "14             -2.41              5.06  \n",
       "15             -2.84              2.73  \n",
       "16              4.26             -7.84  \n",
       "17              5.96              9.46  \n",
       "\n",
       "[18 rows x 25 columns]"
      ],
      "text/html": "<div>\n<style scoped>\n    .dataframe tbody tr th:only-of-type {\n        vertical-align: middle;\n    }\n\n    .dataframe tbody tr th {\n        vertical-align: top;\n    }\n\n    .dataframe thead th {\n        text-align: right;\n    }\n</style>\n<table border=\"1\" class=\"dataframe\">\n  <thead>\n    <tr style=\"text-align: right;\">\n      <th></th>\n      <th>Unnamed: 0</th>\n      <th>Unnamed: 1</th>\n      <th>Unnamed: 2</th>\n      <th>Unnamed: 3</th>\n      <th>Unnamed: 4</th>\n      <th>Unnamed: 5</th>\n      <th>Unnamed: 6</th>\n      <th>Unnamed: 7</th>\n      <th>Unnamed: 8</th>\n      <th>Unnamed: 9</th>\n      <th>...</th>\n      <th>Offense.3</th>\n      <th>Offense.4</th>\n      <th>Defense</th>\n      <th>Defense.1</th>\n      <th>Defense.2</th>\n      <th>Defense.3</th>\n      <th>Defense.4</th>\n      <th>Expected Points</th>\n      <th>Expected Points.1</th>\n      <th>Expected Points.2</th>\n    </tr>\n  </thead>\n  <tbody>\n    <tr>\n      <th>0</th>\n      <td>Week</td>\n      <td>Day</td>\n      <td>Date</td>\n      <td>NaN</td>\n      <td>NaN</td>\n      <td>NaN</td>\n      <td>OT</td>\n      <td>Rec</td>\n      <td>NaN</td>\n      <td>Opp</td>\n      <td>...</td>\n      <td>RushY</td>\n      <td>TO</td>\n      <td>1stD</td>\n      <td>TotYd</td>\n      <td>PassY</td>\n      <td>RushY</td>\n      <td>TO</td>\n      <td>Offense</td>\n      <td>Defense</td>\n      <td>Sp. Tms</td>\n    </tr>\n    <tr>\n      <th>1</th>\n      <td>1</td>\n      <td>Sun</td>\n      <td>September 8</td>\n      <td>1:00PM ET</td>\n      <td>boxscore</td>\n      <td>L</td>\n      <td>NaN</td>\n      <td>0-1</td>\n      <td>@</td>\n      <td>Minnesota Vikings</td>\n      <td>...</td>\n      <td>73</td>\n      <td>3</td>\n      <td>18</td>\n      <td>269</td>\n      <td>97</td>\n      <td>172</td>\n      <td>NaN</td>\n      <td>-1.83</td>\n      <td>-11.05</td>\n      <td>-4.34</td>\n    </tr>\n    <tr>\n      <th>2</th>\n      <td>2</td>\n      <td>Sun</td>\n      <td>September 15</td>\n      <td>8:20PM ET</td>\n      <td>boxscore</td>\n      <td>W</td>\n      <td>NaN</td>\n      <td>1-1</td>\n      <td>NaN</td>\n      <td>Philadelphia Eagles</td>\n      <td>...</td>\n      <td>57</td>\n      <td>3</td>\n      <td>18</td>\n      <td>286</td>\n      <td>237</td>\n      <td>49</td>\n      <td>3</td>\n      <td>3.96</td>\n      <td>5.22</td>\n      <td>-4.03</td>\n    </tr>\n    <tr>\n      <th>3</th>\n      <td>3</td>\n      <td>Sun</td>\n      <td>September 22</td>\n      <td>1:00PM ET</td>\n      <td>boxscore</td>\n      <td>L</td>\n      <td>NaN</td>\n      <td>1-2</td>\n      <td>@</td>\n      <td>Indianapolis Colts</td>\n      <td>...</td>\n      <td>93</td>\n      <td>1</td>\n      <td>29</td>\n      <td>379</td>\n      <td>300</td>\n      <td>79</td>\n      <td>NaN</td>\n      <td>20.23</td>\n      <td>-23.26</td>\n      <td>-2.98</td>\n    </tr>\n    <tr>\n      <th>4</th>\n      <td>4</td>\n      <td>Sun</td>\n      <td>September 29</td>\n      <td>1:00PM ET</td>\n      <td>boxscore</td>\n      <td>L</td>\n      <td>NaN</td>\n      <td>1-3</td>\n      <td>NaN</td>\n      <td>Tennessee Titans</td>\n      <td>...</td>\n      <td>58</td>\n      <td>1</td>\n      <td>22</td>\n      <td>365</td>\n      <td>227</td>\n      <td>138</td>\n      <td>NaN</td>\n      <td>1.83</td>\n      <td>-10.78</td>\n      <td>-3.80</td>\n    </tr>\n    <tr>\n      <th>5</th>\n      <td>5</td>\n      <td>Sun</td>\n      <td>October 6</td>\n      <td>1:00PM ET</td>\n      <td>boxscore</td>\n      <td>L</td>\n      <td>NaN</td>\n      <td>1-4</td>\n      <td>@</td>\n      <td>Houston Texans</td>\n      <td>...</td>\n      <td>57</td>\n      <td>1</td>\n      <td>31</td>\n      <td>592</td>\n      <td>426</td>\n      <td>166</td>\n      <td>1</td>\n      <td>6.40</td>\n      <td>-40.69</td>\n      <td>9.43</td>\n    </tr>\n    <tr>\n      <th>6</th>\n      <td>6</td>\n      <td>Sun</td>\n      <td>October 13</td>\n      <td>4:05PM ET</td>\n      <td>boxscore</td>\n      <td>L</td>\n      <td>NaN</td>\n      <td>1-5</td>\n      <td>@</td>\n      <td>Arizona Cardinals</td>\n      <td>...</td>\n      <td>103</td>\n      <td>NaN</td>\n      <td>24</td>\n      <td>442</td>\n      <td>340</td>\n      <td>102</td>\n      <td>NaN</td>\n      <td>24.99</td>\n      <td>-23.23</td>\n      <td>-0.25</td>\n    </tr>\n    <tr>\n      <th>7</th>\n      <td>7</td>\n      <td>Sun</td>\n      <td>October 20</td>\n      <td>1:00PM ET</td>\n      <td>boxscore</td>\n      <td>L</td>\n      <td>NaN</td>\n      <td>1-6</td>\n      <td>NaN</td>\n      <td>Los Angeles Rams</td>\n      <td>...</td>\n      <td>38</td>\n      <td>3</td>\n      <td>23</td>\n      <td>381</td>\n      <td>291</td>\n      <td>90</td>\n      <td>NaN</td>\n      <td>-10.97</td>\n      <td>-8.61</td>\n      <td>-7.98</td>\n    </tr>\n    <tr>\n      <th>8</th>\n      <td>8</td>\n      <td>Sun</td>\n      <td>October 27</td>\n      <td>1:00PM ET</td>\n      <td>boxscore</td>\n      <td>L</td>\n      <td>NaN</td>\n      <td>1-7</td>\n      <td>NaN</td>\n      <td>Seattle Seahawks</td>\n      <td>...</td>\n      <td>69</td>\n      <td>3</td>\n      <td>18</td>\n      <td>322</td>\n      <td>171</td>\n      <td>151</td>\n      <td>NaN</td>\n      <td>12.89</td>\n      <td>-7.62</td>\n      <td>-15.43</td>\n    </tr>\n    <tr>\n      <th>9</th>\n      <td>9</td>\n      <td>NaN</td>\n      <td>NaN</td>\n      <td>NaN</td>\n      <td>NaN</td>\n      <td>NaN</td>\n      <td>NaN</td>\n      <td>NaN</td>\n      <td>NaN</td>\n      <td>Bye Week</td>\n      <td>...</td>\n      <td>NaN</td>\n      <td>NaN</td>\n      <td>NaN</td>\n      <td>NaN</td>\n      <td>NaN</td>\n      <td>NaN</td>\n      <td>NaN</td>\n      <td>NaN</td>\n      <td>NaN</td>\n      <td>NaN</td>\n    </tr>\n    <tr>\n      <th>10</th>\n      <td>10</td>\n      <td>Sun</td>\n      <td>November 10</td>\n      <td>1:00PM ET</td>\n      <td>boxscore</td>\n      <td>W</td>\n      <td>NaN</td>\n      <td>2-7</td>\n      <td>@</td>\n      <td>New Orleans Saints</td>\n      <td>...</td>\n      <td>143</td>\n      <td>1</td>\n      <td>18</td>\n      <td>310</td>\n      <td>258</td>\n      <td>52</td>\n      <td>NaN</td>\n      <td>5.44</td>\n      <td>10.99</td>\n      <td>-0.17</td>\n    </tr>\n    <tr>\n      <th>11</th>\n      <td>11</td>\n      <td>Sun</td>\n      <td>November 17</td>\n      <td>1:00PM ET</td>\n      <td>boxscore</td>\n      <td>W</td>\n      <td>NaN</td>\n      <td>3-7</td>\n      <td>@</td>\n      <td>Carolina Panthers</td>\n      <td>...</td>\n      <td>54</td>\n      <td>NaN</td>\n      <td>17</td>\n      <td>347</td>\n      <td>270</td>\n      <td>77</td>\n      <td>4</td>\n      <td>6.14</td>\n      <td>19.30</td>\n      <td>-1.12</td>\n    </tr>\n    <tr>\n      <th>12</th>\n      <td>12</td>\n      <td>Sun</td>\n      <td>November 24</td>\n      <td>1:00PM ET</td>\n      <td>boxscore</td>\n      <td>L</td>\n      <td>NaN</td>\n      <td>3-8</td>\n      <td>NaN</td>\n      <td>Tampa Bay Buccaneers</td>\n      <td>...</td>\n      <td>57</td>\n      <td>2</td>\n      <td>20</td>\n      <td>446</td>\n      <td>313</td>\n      <td>133</td>\n      <td>2</td>\n      <td>-5.60</td>\n      <td>-11.90</td>\n      <td>3.77</td>\n    </tr>\n    <tr>\n      <th>13</th>\n      <td>13</td>\n      <td>Thu</td>\n      <td>November 28</td>\n      <td>8:20PM ET</td>\n      <td>boxscore</td>\n      <td>L</td>\n      <td>NaN</td>\n      <td>3-9</td>\n      <td>NaN</td>\n      <td>New Orleans Saints</td>\n      <td>...</td>\n      <td>89</td>\n      <td>3</td>\n      <td>14</td>\n      <td>279</td>\n      <td>184</td>\n      <td>95</td>\n      <td>NaN</td>\n      <td>-5.43</td>\n      <td>-1.68</td>\n      <td>-4.87</td>\n    </tr>\n    <tr>\n      <th>14</th>\n      <td>14</td>\n      <td>Sun</td>\n      <td>December 8</td>\n      <td>1:00PM ET</td>\n      <td>boxscore</td>\n      <td>W</td>\n      <td>NaN</td>\n      <td>4-9</td>\n      <td>NaN</td>\n      <td>Carolina Panthers</td>\n      <td>...</td>\n      <td>159</td>\n      <td>NaN</td>\n      <td>27</td>\n      <td>345</td>\n      <td>245</td>\n      <td>100</td>\n      <td>4</td>\n      <td>19.83</td>\n      <td>-2.41</td>\n      <td>5.06</td>\n    </tr>\n    <tr>\n      <th>15</th>\n      <td>15</td>\n      <td>Sun</td>\n      <td>December 15</td>\n      <td>4:25PM ET</td>\n      <td>boxscore</td>\n      <td>W</td>\n      <td>NaN</td>\n      <td>5-9</td>\n      <td>@</td>\n      <td>San Francisco 49ers</td>\n      <td>...</td>\n      <td>89</td>\n      <td>1</td>\n      <td>20</td>\n      <td>313</td>\n      <td>193</td>\n      <td>120</td>\n      <td>2</td>\n      <td>7.04</td>\n      <td>-2.84</td>\n      <td>2.73</td>\n    </tr>\n    <tr>\n      <th>16</th>\n      <td>16</td>\n      <td>Sun</td>\n      <td>December 22</td>\n      <td>1:00PM ET</td>\n      <td>boxscore</td>\n      <td>W</td>\n      <td>NaN</td>\n      <td>6-9</td>\n      <td>NaN</td>\n      <td>Jacksonville Jaguars</td>\n      <td>...</td>\n      <td>135</td>\n      <td>2</td>\n      <td>17</td>\n      <td>288</td>\n      <td>173</td>\n      <td>115</td>\n      <td>1</td>\n      <td>18.86</td>\n      <td>4.26</td>\n      <td>-7.84</td>\n    </tr>\n    <tr>\n      <th>17</th>\n      <td>17</td>\n      <td>Sun</td>\n      <td>December 29</td>\n      <td>1:00PM ET</td>\n      <td>boxscore</td>\n      <td>W</td>\n      <td>OT</td>\n      <td>7-9</td>\n      <td>@</td>\n      <td>Tampa Bay Buccaneers</td>\n      <td>...</td>\n      <td>87</td>\n      <td>1</td>\n      <td>14</td>\n      <td>329</td>\n      <td>193</td>\n      <td>136</td>\n      <td>3</td>\n      <td>-8.27</td>\n      <td>5.96</td>\n      <td>9.46</td>\n    </tr>\n  </tbody>\n</table>\n<p>18 rows × 25 columns</p>\n</div>"
     },
     "metadata": {},
     "execution_count": 12
    }
   ],
   "source": [
    "team_stats_init = pd.read_csv(\"CSVS/Falcons.csv\")\n",
    "\n",
    "team_stats_init"
   ]
  },
  {
   "cell_type": "code",
   "execution_count": null,
   "metadata": {},
   "outputs": [],
   "source": []
  }
 ]
}