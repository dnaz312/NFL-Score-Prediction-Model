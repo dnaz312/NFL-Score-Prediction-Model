{
 "cells": [
  {
   "cell_type": "code",
   "execution_count": null,
   "metadata": {},
   "outputs": [
    {
     "name": "stdout",
     "output_type": "stream",
     "text": [
      "Collecting package metadata (current_repodata.json): done\n",
      "Solving environment: done\n",
      "\n",
      "\n",
      "==> WARNING: A newer version of conda exists. <==\n",
      "  current version: 4.8.3\n",
      "  latest version: 4.9.2\n",
      "\n",
      "Please update conda by running\n",
      "\n",
      "    $ conda update -n base conda\n",
      "\n",
      "\n",
      "\n",
      "## Package Plan ##\n",
      "\n",
      "  environment location: /opt/conda\n",
      "\n",
      "  added / updated specs:\n",
      "    - pandas\n",
      "\n",
      "\n",
      "The following packages will be downloaded:\n",
      "\n",
      "    package                    |            build\n",
      "    ---------------------------|-----------------\n",
      "    ca-certificates-2020.12.5  |       ha878542_0         137 KB  conda-forge\n",
      "    certifi-2020.12.5          |   py38h578d9bd_0         143 KB  conda-forge\n",
      "    openssl-1.1.1i             |       h7f98852_0         2.1 MB  conda-forge\n",
      "    pandas-1.1.5               |   py38h51da96c_0        11.5 MB  conda-forge\n",
      "    ------------------------------------------------------------\n",
      "                                           Total:        13.9 MB\n",
      "\n",
      "The following packages will be UPDATED:\n",
      "\n",
      "  ca-certificates                      2020.6.20-hecda079_0 --> 2020.12.5-ha878542_0\n",
      "  certifi                          2020.6.20-py38h32f6830_0 --> 2020.12.5-py38h578d9bd_0\n",
      "  openssl                                 1.1.1g-h516909a_1 --> 1.1.1i-h7f98852_0\n",
      "  pandas                               1.1.1-py38h950e882_0 --> 1.1.5-py38h51da96c_0\n",
      "\n",
      "\n",
      "\n",
      "Downloading and Extracting Packages\n",
      "openssl-1.1.1i       | 2.1 MB    | ##################################### | 100% \n",
      "pandas-1.1.5         | 11.5 MB   | ##################################### | 100% \n",
      "certifi-2020.12.5    | 143 KB    | ##################################### | 100% \n",
      "ca-certificates-2020 | 137 KB    | ##################################### | 100% \n",
      "Preparing transaction: done\n",
      "Verifying transaction: done\n",
      "Executing transaction: | ^C\n",
      "/ Collecting package metadata (current_repodata.json): done\n",
      "Solving environment: - "
     ]
    }
   ],
   "source": [
    "!conda install -y pandas\n",
    "!conda install -y seaborn\n",
    "!conda install -y scikit-learn\n",
    "!conda install -y statsmodels\n",
    "!conda install -y seaborn\n",
    "import pandas as pd\n",
    "from sklearn import linear_model\n",
    "import statsmodels.api\n",
    "import seaborn as sns \n",
    "import glob\n",
    "import matplotlib.pyplot as plt\n"
   ]
  },
  {
   "cell_type": "code",
   "execution_count": null,
   "metadata": {},
   "outputs": [],
   "source": [
    "\n",
    "filenames = glob.glob('data_2019/*.csv')\n",
    "li = []\n",
    "for filename in filenames: \n",
    "    df = pd.read_csv(filename, index_col=None, header=0)\n",
    "    filename = filename.replace('data_2019/', \"\")\n",
    "    filename = filename.replace('.csv', '')\n",
    "    df['Day'] = filename\n",
    "    df.rename(columns= {'Day' : 'Team Name'}, inplace= True)\n",
    "    li.append(df)\n",
    "team_stats_init = pd.concat(li, axis= 0, ignore_index=True)\n",
    "\n",
    "team_stats_init.drop(team_stats_init.columns[team_stats_init.columns.str.contains('unnamed',case = False)],axis = 1, inplace = True)\n",
    "team_stats_init.drop(team_stats_init.columns[team_stats_init.columns.str.contains('opp',case = False)],axis = 1, inplace = True)\n",
    "\n",
    "\n",
    "team_stats_init = team_stats_init.rename(columns = {team_stats_init.columns[5]: \"ScoredPoints\", team_stats_init.columns[6]: \"FirstDowns\", team_stats_init.columns[10]: \"TurnoversAllowed\",team_stats_init.columns[11] : \"FirstAllowed\", team_stats_init.columns[12] : \"YardsAllowed\", team_stats_init.columns[12]: \"YardsAllowed\", team_stats_init.columns[13]: \"PassYardsAllowed\", team_stats_init.columns[14]: \"RushingYardsAllowed\", team_stats_init.columns[15]: \"Turnovers\"})\n",
    "team_stats_init.drop(team_stats_init.columns[team_stats_init.columns.str.contains('Date',case = False)],axis = 1, inplace = True)\n",
    "team_stats_init.drop(team_stats_init.columns[team_stats_init.columns.str.contains('Rec',case = False)],axis = 1, inplace = True)\n",
    "team_stats_init.drop(team_stats_init.columns[team_stats_init.columns.str.contains('OT',case = False)],axis = 1, inplace = True)\n",
    "team_stats_init = team_stats_init.iloc[:, 1:12]\n",
    "team_stats_init.to_csv(r\"data_for_models/testdata.csv\")\n",
    "team_stats_init.head(34)\n",
    "\n",
    "\n",
    "\n",
    "\n",
    "\n"
   ]
  },
  {
   "cell_type": "code",
   "execution_count": null,
   "metadata": {},
   "outputs": [],
   "source": [
    "for col in team_stats_init.iloc[:, 2:12].columns:\n",
    "    \n",
    "    lin_reg_test =statsmodels.formula.api.ols(formula=\"ScoredPoints ~ {}\".format(col), data=team_stats_init).fit()\n",
    "    print(lin_reg_test.summary())\n",
    "\n",
    "\n"
   ]
  },
  {
   "cell_type": "code",
   "execution_count": null,
   "metadata": {},
   "outputs": [],
   "source": [
    "#Plotting variables that have high correlation to scoring\n",
    "cnt = 1\n",
    "for title, group in team_stats_init.groupby('Team Name'):\n",
    "    plt.figure(cnt)\n",
    "    sns.regplot(x= 'PassY', y= 'ScoredPoints', data= group)\n",
    "    plt.title(title)\n",
    "    cnt += 1\n",
    "    plt.figure(cnt)\n",
    "    sns.regplot(x= 'RushY', y= 'ScoredPoints', data= group)\n",
    "    plt.title(title)\n",
    "    cnt += 1\n",
    "\n",
    "\n",
    "\n"
   ]
  },
  {
   "cell_type": "code",
   "execution_count": null,
   "metadata": {},
   "outputs": [],
   "source": [
    "#Plotting combined statistics across all teams\n",
    "\n",
    "Pass_Yards = sns.lmplot(x= 'PassY', y= 'ScoredPoints', palette= sns.color_palette(\"Paired\"), hue= 'Team Name',data= team_stats_init, height= 8, fit_reg= False)\n",
    "sns.regplot(x=\"PassY\", y=\"ScoredPoints\", data=team_stats_init, scatter=False, ax= Pass_Yards.axes[0, 0], line_kws={\"color\": \"black\"})\n",
    "plt.xlabel(\"Passing Yards\")\n",
    "plt.ylabel(\"Points Scored\")\n",
    "plt.title(\"Points Scored vs Pass Yards Across All NFL Teams in the 2019 Season\")\n",
    "\n",
    "Rush_Yards = sns.lmplot(x= 'RushY', y= 'ScoredPoints', palette= sns.color_palette(\"Paired\"), hue= 'Team Name',data= team_stats_init, height= 8, fit_reg= False)\n",
    "sns.regplot(x=\"RushY\", y=\"ScoredPoints\", data=team_stats_init, scatter=False, ax= Rush_Yards.axes[0, 0], line_kws={\"color\": \"black\"})\n",
    "plt.xlabel(\"Rushing Yards\")\n",
    "plt.ylabel(\"Points Scored\")\n",
    "plt.title(\"Points Scored vs Rush Yards Across All NFL Teams in the 2019 Season\")\n",
    "\n",
    "Turnovers_Allowed = sns.lmplot(x= 'TurnoversAllowed', y= 'ScoredPoints', palette= sns.color_palette(\"Paired\"), hue= 'Team Name',data= team_stats_init, height= 8, fit_reg= False)\n",
    "sns.regplot(x=\"TurnoversAllowed\", y=\"ScoredPoints\", data=team_stats_init, scatter=False, ax= Turnovers_Allowed.axes[0, 0], line_kws={\"color\": \"black\"})\n",
    "plt.xlabel(\"Turnovers Allowed\")\n",
    "plt.ylabel(\"Points Scored\")\n",
    "plt.title(\"Points Scored vs Turnovers Allowed Across All NFL Teams in the 2019 Season\")\n",
    "\n",
    "Rushing_Yards_Allowed = sns.lmplot(x= 'RushingYardsAllowed', y= 'ScoredPoints', palette= sns.color_palette(\"Paired\"), hue= 'Team Name',data= team_stats_init, height= 8, fit_reg= False)\n",
    "sns.regplot(x=\"RushingYardsAllowed\", y=\"ScoredPoints\", data=team_stats_init, scatter=False, ax= Rushing_Yards_Allowed.axes[0, 0], line_kws={\"color\": \"black\"})\n",
    "plt.xlabel(\"Rushing Yards Allowed\")\n",
    "plt.ylabel(\"Points Scored\")\n",
    "plt.title(\"Points Scored vs Rushing Yards Allowed Across All NFL Teams in the 2019 Season\")\n"
   ]
  },
  {
   "cell_type": "code",
   "execution_count": null,
   "metadata": {},
   "outputs": [],
   "source": [
    "# Creating a subset within 2019 data set\n",
    "\n",
    "training_subset = team_stats_init[['Team Name', 'ScoredPoints', 'PassY', 'RushY', 'TurnoversAllowed', 'RushingYardsAllowed']]\n"
   ]
  },
  {
   "cell_type": "code",
   "execution_count": null,
   "metadata": {},
   "outputs": [],
   "source": []
  }
 ],
 "metadata": {
  "kernelspec": {
   "display_name": "Python 3",
   "language": "python",
   "name": "python3"
  },
  "language_info": {
   "codemirror_mode": {
    "name": "ipython",
    "version": 3
   },
   "file_extension": ".py",
   "mimetype": "text/x-python",
   "name": "python",
   "nbconvert_exporter": "python",
   "pygments_lexer": "ipython3",
   "version": "3.8.5"
  }
 },
 "nbformat": 4,
 "nbformat_minor": 2
}
