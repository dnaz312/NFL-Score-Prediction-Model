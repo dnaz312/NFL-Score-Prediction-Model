{
 "metadata": {
  "language_info": {
   "codemirror_mode": {
    "name": "ipython",
    "version": 3
   },
   "file_extension": ".py",
   "mimetype": "text/x-python",
   "name": "python",
   "nbconvert_exporter": "python",
   "pygments_lexer": "ipython3",
   "version": "3.8.3-final"
  },
  "orig_nbformat": 2,
  "kernelspec": {
   "name": "python3",
   "display_name": "Python 3",
   "language": "python"
  }
 },
 "nbformat": 4,
 "nbformat_minor": 2,
 "cells": [
  {
   "cell_type": "code",
   "execution_count": 3,
   "metadata": {},
   "outputs": [
    {
     "output_type": "stream",
     "name": "stdout",
     "text": [
      "Collecting package metadata (current_repodata.json): done\n",
      "Solving environment: done\n",
      "\n",
      "# All requested packages already installed.\n",
      "\n",
      "Collecting package metadata (current_repodata.json): done\n",
      "Solving environment: done\n",
      "\n",
      "# All requested packages already installed.\n",
      "\n",
      "Collecting package metadata (current_repodata.json): done\n",
      "Solving environment: done\n",
      "\n",
      "# All requested packages already installed.\n",
      "\n",
      "Collecting package metadata (current_repodata.json): done\n",
      "Solving environment: done\n",
      "\n",
      "# All requested packages already installed.\n",
      "\n"
     ]
    }
   ],
   "source": [
    "!conda install -y pandas\n",
    "!conda install -y seaborn\n",
    "!conda install -y scikit-learn\n",
    "!conda install -y statsmodels\n",
    "\n",
    "import pandas as pd\n",
    "from sklearn import linear_model\n",
    "import statsmodels.api\n",
    "from os import listdir\n",
    "import glob"
   ]
  },
  {
   "cell_type": "code",
   "execution_count": 61,
   "metadata": {},
   "outputs": [
    {
     "output_type": "execute_result",
     "data": {
      "text/plain": [
       "    Team Name    Tm  FirstDowns  PassY  RushY   TO  FirstAllowed  \\\n",
       "0    Steelers   3.0        15.0  276.0   32.0  1.0          24.0   \n",
       "1    Steelers  26.0        17.0  180.0   81.0  1.0          25.0   \n",
       "2    Steelers  20.0        11.0  160.0   79.0  2.0          26.0   \n",
       "3    Steelers  27.0        20.0  260.0   66.0  1.0          16.0   \n",
       "4    Steelers  23.0        18.0  192.0   77.0  2.0          22.0   \n",
       "..        ...   ...         ...    ...    ...  ...           ...   \n",
       "539   Bengals  22.0        18.0  233.0   44.0  NaN          15.0   \n",
       "540   Bengals  19.0        27.0  272.0  179.0  1.0          17.0   \n",
       "541   Bengals  13.0        19.0  151.0  164.0  5.0          19.0   \n",
       "542   Bengals  35.0        25.0  371.0   59.0  1.0          29.0   \n",
       "543   Bengals  33.0        22.0  182.0  179.0  1.0          15.0   \n",
       "\n",
       "     YardsAllowed  PassYardsAllowed  RushingYardsAllowed  Turnovers  \n",
       "0           465.0             366.0                 99.0        NaN  \n",
       "1           425.0             274.0                151.0        2.0  \n",
       "2           436.0             268.0                168.0        5.0  \n",
       "3           175.0             102.0                 73.0        2.0  \n",
       "4           277.0             139.0                138.0        3.0  \n",
       "..            ...               ...                  ...        ...  \n",
       "539         271.0             209.0                 62.0        NaN  \n",
       "540         333.0             187.0                146.0        2.0  \n",
       "541         291.0             116.0                175.0        NaN  \n",
       "542         502.0             406.0                 96.0        1.0  \n",
       "543         313.0             239.0                 74.0        3.0  \n",
       "\n",
       "[544 rows x 11 columns]"
      ],
      "text/html": "<div>\n<style scoped>\n    .dataframe tbody tr th:only-of-type {\n        vertical-align: middle;\n    }\n\n    .dataframe tbody tr th {\n        vertical-align: top;\n    }\n\n    .dataframe thead th {\n        text-align: right;\n    }\n</style>\n<table border=\"1\" class=\"dataframe\">\n  <thead>\n    <tr style=\"text-align: right;\">\n      <th></th>\n      <th>Team Name</th>\n      <th>Tm</th>\n      <th>FirstDowns</th>\n      <th>PassY</th>\n      <th>RushY</th>\n      <th>TO</th>\n      <th>FirstAllowed</th>\n      <th>YardsAllowed</th>\n      <th>PassYardsAllowed</th>\n      <th>RushingYardsAllowed</th>\n      <th>Turnovers</th>\n    </tr>\n  </thead>\n  <tbody>\n    <tr>\n      <th>0</th>\n      <td>Steelers</td>\n      <td>3.0</td>\n      <td>15.0</td>\n      <td>276.0</td>\n      <td>32.0</td>\n      <td>1.0</td>\n      <td>24.0</td>\n      <td>465.0</td>\n      <td>366.0</td>\n      <td>99.0</td>\n      <td>NaN</td>\n    </tr>\n    <tr>\n      <th>1</th>\n      <td>Steelers</td>\n      <td>26.0</td>\n      <td>17.0</td>\n      <td>180.0</td>\n      <td>81.0</td>\n      <td>1.0</td>\n      <td>25.0</td>\n      <td>425.0</td>\n      <td>274.0</td>\n      <td>151.0</td>\n      <td>2.0</td>\n    </tr>\n    <tr>\n      <th>2</th>\n      <td>Steelers</td>\n      <td>20.0</td>\n      <td>11.0</td>\n      <td>160.0</td>\n      <td>79.0</td>\n      <td>2.0</td>\n      <td>26.0</td>\n      <td>436.0</td>\n      <td>268.0</td>\n      <td>168.0</td>\n      <td>5.0</td>\n    </tr>\n    <tr>\n      <th>3</th>\n      <td>Steelers</td>\n      <td>27.0</td>\n      <td>20.0</td>\n      <td>260.0</td>\n      <td>66.0</td>\n      <td>1.0</td>\n      <td>16.0</td>\n      <td>175.0</td>\n      <td>102.0</td>\n      <td>73.0</td>\n      <td>2.0</td>\n    </tr>\n    <tr>\n      <th>4</th>\n      <td>Steelers</td>\n      <td>23.0</td>\n      <td>18.0</td>\n      <td>192.0</td>\n      <td>77.0</td>\n      <td>2.0</td>\n      <td>22.0</td>\n      <td>277.0</td>\n      <td>139.0</td>\n      <td>138.0</td>\n      <td>3.0</td>\n    </tr>\n    <tr>\n      <th>...</th>\n      <td>...</td>\n      <td>...</td>\n      <td>...</td>\n      <td>...</td>\n      <td>...</td>\n      <td>...</td>\n      <td>...</td>\n      <td>...</td>\n      <td>...</td>\n      <td>...</td>\n      <td>...</td>\n    </tr>\n    <tr>\n      <th>539</th>\n      <td>Bengals</td>\n      <td>22.0</td>\n      <td>18.0</td>\n      <td>233.0</td>\n      <td>44.0</td>\n      <td>NaN</td>\n      <td>15.0</td>\n      <td>271.0</td>\n      <td>209.0</td>\n      <td>62.0</td>\n      <td>NaN</td>\n    </tr>\n    <tr>\n      <th>540</th>\n      <td>Bengals</td>\n      <td>19.0</td>\n      <td>27.0</td>\n      <td>272.0</td>\n      <td>179.0</td>\n      <td>1.0</td>\n      <td>17.0</td>\n      <td>333.0</td>\n      <td>187.0</td>\n      <td>146.0</td>\n      <td>2.0</td>\n    </tr>\n    <tr>\n      <th>541</th>\n      <td>Bengals</td>\n      <td>13.0</td>\n      <td>19.0</td>\n      <td>151.0</td>\n      <td>164.0</td>\n      <td>5.0</td>\n      <td>19.0</td>\n      <td>291.0</td>\n      <td>116.0</td>\n      <td>175.0</td>\n      <td>NaN</td>\n    </tr>\n    <tr>\n      <th>542</th>\n      <td>Bengals</td>\n      <td>35.0</td>\n      <td>25.0</td>\n      <td>371.0</td>\n      <td>59.0</td>\n      <td>1.0</td>\n      <td>29.0</td>\n      <td>502.0</td>\n      <td>406.0</td>\n      <td>96.0</td>\n      <td>1.0</td>\n    </tr>\n    <tr>\n      <th>543</th>\n      <td>Bengals</td>\n      <td>33.0</td>\n      <td>22.0</td>\n      <td>182.0</td>\n      <td>179.0</td>\n      <td>1.0</td>\n      <td>15.0</td>\n      <td>313.0</td>\n      <td>239.0</td>\n      <td>74.0</td>\n      <td>3.0</td>\n    </tr>\n  </tbody>\n</table>\n<p>544 rows × 11 columns</p>\n</div>"
     },
     "metadata": {},
     "execution_count": 61
    }
   ],
   "source": [
    "\n",
    "filenames = glob.glob('data/*.csv')\n",
    "li = []\n",
    "for filename in filenames: \n",
    "    df = pd.read_csv(filename, index_col=None, header=0)\n",
    "    filename = filename.replace('data/', \"\")\n",
    "    filename = filename.replace('.csv', '')\n",
    "    df['Day'] = filename\n",
    "    df.rename(columns= {'Day' : 'Team Name'}, inplace= True)\n",
    "    li.append(df)\n",
    "team_stats_init = pd.concat(li, axis= 0, ignore_index=True)\n",
    "\n",
    "team_stats_init.drop(team_stats_init.columns[team_stats_init.columns.str.contains('unnamed',case = False)],axis = 1, inplace = True)\n",
    "team_stats_init.drop(team_stats_init.columns[team_stats_init.columns.str.contains('opp',case = False)],axis = 1, inplace = True)\n",
    "\n",
    "\n",
    "team_stats_init = team_stats_init.rename(columns = {team_stats_init.columns[6]: \"FirstDowns\", team_stats_init.columns[11] : \"FirstAllowed\", team_stats_init.columns[12] : \"YardsAllowed\", team_stats_init.columns[12]: \"YardsAllowed\", team_stats_init.columns[13]: \"PassYardsAllowed\", team_stats_init.columns[14]: \"RushingYardsAllowed\", team_stats_init.columns[15]: \"Turnovers\"})\n",
    "team_stats_init.drop(team_stats_init.columns[team_stats_init.columns.str.contains('Date',case = False)],axis = 1, inplace = True)\n",
    "team_stats_init.drop(team_stats_init.columns[team_stats_init.columns.str.contains('Rec',case = False)],axis = 1, inplace = True)\n",
    "team_stats_init.drop(team_stats_init.columns[team_stats_init.columns.str.contains('OT',case = False)],axis = 1, inplace = True)\n",
    "team_stats_init = team_stats_init.iloc[:, 1:12]\n",
    "team_stats_init\n",
    "\n",
    "\n",
    "\n",
    "\n",
    "\n"
   ]
  },
  {
   "cell_type": "code",
   "execution_count": 66,
   "metadata": {},
   "outputs": [
    {
     "output_type": "stream",
     "name": "stdout",
     "text": [
      "                            OLS Regression Results                            \n==============================================================================\nDep. Variable:                     Tm   R-squared:                       0.339\nModel:                            OLS   Adj. R-squared:                  0.337\nMethod:                 Least Squares   F-statistic:                     261.1\nDate:                Tue, 15 Dec 2020   Prob (F-statistic):           1.01e-47\nTime:                        15:18:59   Log-Likelihood:                -1807.0\nNo. Observations:                 512   AIC:                             3618.\nDf Residuals:                     510   BIC:                             3627.\nDf Model:                           1                                         \nCovariance Type:            nonrobust                                         \n==============================================================================\n                 coef    std err          t      P>|t|      [0.025      0.975]\n------------------------------------------------------------------------------\nIntercept     -1.2316      1.532     -0.804      0.422      -4.242       1.779\nFirstDowns     1.1873      0.073     16.157      0.000       1.043       1.332\n==============================================================================\nOmnibus:                        4.757   Durbin-Watson:                   1.947\nProb(Omnibus):                  0.093   Jarque-Bera (JB):                4.849\nSkew:                           0.232   Prob(JB):                       0.0885\nKurtosis:                       2.891   Cond. No.                         87.6\n==============================================================================\n\nNotes:\n[1] Standard Errors assume that the covariance matrix of the errors is correctly specified.\n                            OLS Regression Results                            \n==============================================================================\nDep. Variable:                     Tm   R-squared:                       0.212\nModel:                            OLS   Adj. R-squared:                  0.211\nMethod:                 Least Squares   F-statistic:                     137.5\nDate:                Tue, 15 Dec 2020   Prob (F-statistic):           2.75e-28\nTime:                        15:18:59   Log-Likelihood:                -1851.7\nNo. Observations:                 512   AIC:                             3707.\nDf Residuals:                     510   BIC:                             3716.\nDf Model:                           1                                         \nCovariance Type:            nonrobust                                         \n==============================================================================\n                 coef    std err          t      P>|t|      [0.025      0.975]\n------------------------------------------------------------------------------\nIntercept      8.9269      1.249      7.145      0.000       6.472      11.381\nPassY          0.0591      0.005     11.728      0.000       0.049       0.069\n==============================================================================\nOmnibus:                       10.881   Durbin-Watson:                   1.853\nProb(Omnibus):                  0.004   Jarque-Bera (JB):               10.972\nSkew:                           0.350   Prob(JB):                      0.00414\nKurtosis:                       3.156   Cond. No.                         777.\n==============================================================================\n\nNotes:\n[1] Standard Errors assume that the covariance matrix of the errors is correctly specified.\n                            OLS Regression Results                            \n==============================================================================\nDep. Variable:                     Tm   R-squared:                       0.169\nModel:                            OLS   Adj. R-squared:                  0.167\nMethod:                 Least Squares   F-statistic:                     103.7\nDate:                Tue, 15 Dec 2020   Prob (F-statistic):           2.66e-22\nTime:                        15:18:59   Log-Likelihood:                -1865.5\nNo. Observations:                 512   AIC:                             3735.\nDf Residuals:                     510   BIC:                             3743.\nDf Model:                           1                                         \nCovariance Type:            nonrobust                                         \n==============================================================================\n                 coef    std err          t      P>|t|      [0.025      0.975]\n------------------------------------------------------------------------------\nIntercept     13.8616      0.970     14.297      0.000      11.957      15.767\nRushY          0.0793      0.008     10.185      0.000       0.064       0.095\n==============================================================================\nOmnibus:                        7.428   Durbin-Watson:                   1.851\nProb(Omnibus):                  0.024   Jarque-Bera (JB):                7.621\nSkew:                           0.293   Prob(JB):                       0.0221\nKurtosis:                       2.882   Cond. No.                         295.\n==============================================================================\n\nNotes:\n[1] Standard Errors assume that the covariance matrix of the errors is correctly specified.\n                            OLS Regression Results                            \n==============================================================================\nDep. Variable:                     Tm   R-squared:                       0.066\nModel:                            OLS   Adj. R-squared:                  0.064\nMethod:                 Least Squares   F-statistic:                     26.45\nDate:                Tue, 15 Dec 2020   Prob (F-statistic):           4.38e-07\nTime:                        15:18:59   Log-Likelihood:                -1384.9\nNo. Observations:                 375   AIC:                             2774.\nDf Residuals:                     373   BIC:                             2782.\nDf Model:                           1                                         \nCovariance Type:            nonrobust                                         \n==============================================================================\n                 coef    std err          t      P>|t|      [0.025      0.975]\n------------------------------------------------------------------------------\nIntercept     25.9521      0.989     26.240      0.000      24.007      27.897\nTO            -2.3095      0.449     -5.143      0.000      -3.193      -1.426\n==============================================================================\nOmnibus:                        3.168   Durbin-Watson:                   1.753\nProb(Omnibus):                  0.205   Jarque-Bera (JB):                3.086\nSkew:                           0.222   Prob(JB):                        0.214\nKurtosis:                       3.001   Cond. No.                         5.02\n==============================================================================\n\nNotes:\n[1] Standard Errors assume that the covariance matrix of the errors is correctly specified.\n                            OLS Regression Results                            \n==============================================================================\nDep. Variable:                     Tm   R-squared:                       0.002\nModel:                            OLS   Adj. R-squared:                 -0.000\nMethod:                 Least Squares   F-statistic:                    0.9937\nDate:                Tue, 15 Dec 2020   Prob (F-statistic):              0.319\nTime:                        15:18:59   Log-Likelihood:                -1912.4\nNo. Observations:                 512   AIC:                             3829.\nDf Residuals:                     510   BIC:                             3837.\nDf Model:                           1                                         \nCovariance Type:            nonrobust                                         \n================================================================================\n                   coef    std err          t      P>|t|      [0.025      0.975]\n--------------------------------------------------------------------------------\nIntercept       20.9902      1.882     11.151      0.000      17.292      24.688\nFirstAllowed     0.0900      0.090      0.997      0.319      -0.087       0.267\n==============================================================================\nOmnibus:                        4.942   Durbin-Watson:                   1.806\nProb(Omnibus):                  0.084   Jarque-Bera (JB):                4.877\nSkew:                           0.239   Prob(JB):                       0.0873\nKurtosis:                       3.022   Cond. No.                         87.6\n==============================================================================\n\nNotes:\n[1] Standard Errors assume that the covariance matrix of the errors is correctly specified.\n                            OLS Regression Results                            \n==============================================================================\nDep. Variable:                     Tm   R-squared:                       0.000\nModel:                            OLS   Adj. R-squared:                 -0.002\nMethod:                 Least Squares   F-statistic:                  0.001539\nDate:                Tue, 15 Dec 2020   Prob (F-statistic):              0.969\nTime:                        15:18:59   Log-Likelihood:                -1912.9\nNo. Observations:                 512   AIC:                             3830.\nDf Residuals:                     510   BIC:                             3838.\nDf Model:                           1                                         \nCovariance Type:            nonrobust                                         \n================================================================================\n                   coef    std err          t      P>|t|      [0.025      0.975]\n--------------------------------------------------------------------------------\nIntercept       22.7432      1.823     12.473      0.000      19.161      26.325\nYardsAllowed     0.0002      0.005      0.039      0.969      -0.010       0.010\n==============================================================================\nOmnibus:                        4.887   Durbin-Watson:                   1.817\nProb(Omnibus):                  0.087   Jarque-Bera (JB):                4.859\nSkew:                           0.239   Prob(JB):                       0.0881\nKurtosis:                       2.998   Cond. No.                     1.46e+03\n==============================================================================\n\nNotes:\n[1] Standard Errors assume that the covariance matrix of the errors is correctly specified.\n[2] The condition number is large, 1.46e+03. This might indicate that there are\nstrong multicollinearity or other numerical problems.\n                            OLS Regression Results                            \n==============================================================================\nDep. Variable:                     Tm   R-squared:                       0.023\nModel:                            OLS   Adj. R-squared:                  0.021\nMethod:                 Least Squares   F-statistic:                     12.02\nDate:                Tue, 15 Dec 2020   Prob (F-statistic):           0.000571\nTime:                        15:18:59   Log-Likelihood:                -1906.9\nNo. Observations:                 512   AIC:                             3818.\nDf Residuals:                     510   BIC:                             3826.\nDf Model:                           1                                         \nCovariance Type:            nonrobust                                         \n====================================================================================\n                       coef    std err          t      P>|t|      [0.025      0.975]\n------------------------------------------------------------------------------------\nIntercept           18.2406      1.391     13.109      0.000      15.507      20.974\nPassYardsAllowed     0.0195      0.006      3.467      0.001       0.008       0.030\n==============================================================================\nOmnibus:                        4.771   Durbin-Watson:                   1.769\nProb(Omnibus):                  0.092   Jarque-Bera (JB):                4.590\nSkew:                           0.225   Prob(JB):                        0.101\nKurtosis:                       3.109   Cond. No.                         777.\n==============================================================================\n\nNotes:\n[1] Standard Errors assume that the covariance matrix of the errors is correctly specified.\n                            OLS Regression Results                            \n==============================================================================\nDep. Variable:                     Tm   R-squared:                       0.051\nModel:                            OLS   Adj. R-squared:                  0.049\nMethod:                 Least Squares   F-statistic:                     27.27\nDate:                Tue, 15 Dec 2020   Prob (F-statistic):           2.59e-07\nTime:                        15:18:59   Log-Likelihood:                -1899.5\nNo. Observations:                 512   AIC:                             3803.\nDf Residuals:                     510   BIC:                             3812.\nDf Model:                           1                                         \nCovariance Type:            nonrobust                                         \n=======================================================================================\n                          coef    std err          t      P>|t|      [0.025      0.975]\n---------------------------------------------------------------------------------------\nIntercept              27.7172      1.036     26.747      0.000      25.681      29.753\nRushingYardsAllowed    -0.0434      0.008     -5.222      0.000      -0.060      -0.027\n==============================================================================\nOmnibus:                        2.397   Durbin-Watson:                   1.844\nProb(Omnibus):                  0.302   Jarque-Bera (JB):                2.330\nSkew:                           0.165   Prob(JB):                        0.312\nKurtosis:                       3.004   Cond. No.                         295.\n==============================================================================\n\nNotes:\n[1] Standard Errors assume that the covariance matrix of the errors is correctly specified.\n                            OLS Regression Results                            \n==============================================================================\nDep. Variable:                     Tm   R-squared:                       0.052\nModel:                            OLS   Adj. R-squared:                  0.049\nMethod:                 Least Squares   F-statistic:                     20.33\nDate:                Tue, 15 Dec 2020   Prob (F-statistic):           8.74e-06\nTime:                        15:18:59   Log-Likelihood:                -1395.8\nNo. Observations:                 375   AIC:                             2796.\nDf Residuals:                     373   BIC:                             2803.\nDf Model:                           1                                         \nCovariance Type:            nonrobust                                         \n==============================================================================\n                 coef    std err          t      P>|t|      [0.025      0.975]\n------------------------------------------------------------------------------\nIntercept     20.2936      1.018     19.933      0.000      18.292      22.296\nTurnovers      2.0843      0.462      4.509      0.000       1.175       2.993\n==============================================================================\nOmnibus:                        3.190   Durbin-Watson:                   1.724\nProb(Omnibus):                  0.203   Jarque-Bera (JB):                3.128\nSkew:                           0.224   Prob(JB):                        0.209\nKurtosis:                       2.989   Cond. No.                         5.02\n==============================================================================\n\nNotes:\n[1] Standard Errors assume that the covariance matrix of the errors is correctly specified.\n"
     ]
    }
   ],
   "source": [
    "for col in team_stats_init.iloc[:, 2:12].columns:\n",
    "    \n",
    "    lin_reg_test =statsmodels.formula.api.ols(formula=\"Tm ~ {}\".format(col), data=team_stats_init).fit()\n",
    "    print(lin_reg_test.summary())\n",
    "\n",
    "\n"
   ]
  },
  {
   "cell_type": "code",
   "execution_count": null,
   "metadata": {},
   "outputs": [],
   "source": []
  }
 ]
}